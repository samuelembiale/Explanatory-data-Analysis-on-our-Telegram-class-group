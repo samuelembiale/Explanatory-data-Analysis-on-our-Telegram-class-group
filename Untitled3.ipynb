{
 "cells": [
  {
   "cell_type": "code",
   "execution_count": 1,
   "metadata": {},
   "outputs": [],
   "source": [
    "import json\n",
    "import pandas as pd\n",
    "import numpy as np\n",
    "import matplotlib.pyplot as plt\n",
    "import matplotlib\n",
    "import seaborn as sns\n",
    "import emoji \n",
    "from wordcloud import WordCloud, STOPWORDS\n",
    "from collections import Counter"
   ]
  },
  {
   "cell_type": "code",
   "execution_count": 2,
   "metadata": {},
   "outputs": [
    {
     "data": {
      "text/html": [
       "<div>\n",
       "<style scoped>\n",
       "    .dataframe tbody tr th:only-of-type {\n",
       "        vertical-align: middle;\n",
       "    }\n",
       "\n",
       "    .dataframe tbody tr th {\n",
       "        vertical-align: top;\n",
       "    }\n",
       "\n",
       "    .dataframe thead th {\n",
       "        text-align: right;\n",
       "    }\n",
       "</style>\n",
       "<table border=\"1\" class=\"dataframe\">\n",
       "  <thead>\n",
       "    <tr style=\"text-align: right;\">\n",
       "      <th></th>\n",
       "      <th>name</th>\n",
       "      <th>type</th>\n",
       "      <th>id</th>\n",
       "      <th>messages</th>\n",
       "    </tr>\n",
       "  </thead>\n",
       "  <tbody>\n",
       "    <tr>\n",
       "      <th>0</th>\n",
       "      <td>Software sec A</td>\n",
       "      <td>private_supergroup</td>\n",
       "      <td>1376792344</td>\n",
       "      <td>{'id': -999983470, 'type': 'service', 'date': ...</td>\n",
       "    </tr>\n",
       "    <tr>\n",
       "      <th>1</th>\n",
       "      <td>Software sec A</td>\n",
       "      <td>private_supergroup</td>\n",
       "      <td>1376792344</td>\n",
       "      <td>{'id': -999983469, 'type': 'service', 'date': ...</td>\n",
       "    </tr>\n",
       "    <tr>\n",
       "      <th>2</th>\n",
       "      <td>Software sec A</td>\n",
       "      <td>private_supergroup</td>\n",
       "      <td>1376792344</td>\n",
       "      <td>{'id': -999983468, 'type': 'service', 'date': ...</td>\n",
       "    </tr>\n",
       "    <tr>\n",
       "      <th>3</th>\n",
       "      <td>Software sec A</td>\n",
       "      <td>private_supergroup</td>\n",
       "      <td>1376792344</td>\n",
       "      <td>{'id': -999983467, 'type': 'service', 'date': ...</td>\n",
       "    </tr>\n",
       "    <tr>\n",
       "      <th>4</th>\n",
       "      <td>Software sec A</td>\n",
       "      <td>private_supergroup</td>\n",
       "      <td>1376792344</td>\n",
       "      <td>{'id': -999983466, 'type': 'service', 'date': ...</td>\n",
       "    </tr>\n",
       "  </tbody>\n",
       "</table>\n",
       "</div>"
      ],
      "text/plain": [
       "             name                type          id  \\\n",
       "0  Software sec A  private_supergroup  1376792344   \n",
       "1  Software sec A  private_supergroup  1376792344   \n",
       "2  Software sec A  private_supergroup  1376792344   \n",
       "3  Software sec A  private_supergroup  1376792344   \n",
       "4  Software sec A  private_supergroup  1376792344   \n",
       "\n",
       "                                            messages  \n",
       "0  {'id': -999983470, 'type': 'service', 'date': ...  \n",
       "1  {'id': -999983469, 'type': 'service', 'date': ...  \n",
       "2  {'id': -999983468, 'type': 'service', 'date': ...  \n",
       "3  {'id': -999983467, 'type': 'service', 'date': ...  \n",
       "4  {'id': -999983466, 'type': 'service', 'date': ...  "
      ]
     },
     "execution_count": 2,
     "metadata": {},
     "output_type": "execute_result"
    }
   ],
   "source": [
    "result=pd.read_json(\"./result1.json\");\n",
    "\n",
    "# result.shape\n",
    "result.isnull().sum()\n",
    "result.head()"
   ]
  },
  {
   "cell_type": "code",
   "execution_count": null,
   "metadata": {},
   "outputs": [],
   "source": [
    "dt = pd.DataFrame(result.messages.tolist())\n",
    "dt.to_csv('./result_csv3.csv', index=None)\n",
    "cs = pd.read_csv('./result_csv3.csv')\n",
    "cs = pd.DataFrame(cs)[['id','from','from_id','text','reply_to_message_id']]\n",
    "# cs.head()\n",
    "cs"
   ]
  },
  {
   "cell_type": "code",
   "execution_count": null,
   "metadata": {},
   "outputs": [],
   "source": [
    "active_members=cs.copy()"
   ]
  },
  {
   "cell_type": "code",
   "execution_count": null,
   "metadata": {},
   "outputs": [],
   "source": [
    "active_members=active_members.groupby(['from']).count().sort_values(\"from_id\",ascending=False)\n",
    "print(active_members)\n",
    "# active_members.text.max()\n",
    "# active_members[active_members.text == active_members.text.max()]"
   ]
  },
  {
   "cell_type": "code",
   "execution_count": null,
   "metadata": {},
   "outputs": [],
   "source": [
    "words = cs.copy()\n",
    "words=words.dropna()\n",
    "# words.head()\n",
    "words\n"
   ]
  },
  {
   "cell_type": "code",
   "execution_count": null,
   "metadata": {},
   "outputs": [],
   "source": [
    "word = \" \".join(review for review in words['text'])\n",
    "\n",
    "stopwords = set(STOPWORDS)\n",
    "\n",
    "#delete the word/text that are commonly used(eg.the,yes,no,bye,or and is)\n",
    "stopwords.update([\"the\",\"is\",\"yea\",\"ok\",\"okay\",\"or\",\"ene\",'awo',\"no\",\"will\",\"yeah\",\"I\",\"eko\",\"if\",\"me\",\"you\",\"done\",\"want\",\"Ya\",\"https\",\"youtube\",\"Awo\",\"lay\",\"new\",\"channel\",\"nw\",\"sol\",\"u\"])\n",
    "\n",
    "\n",
    "#Creating a word cloud \n",
    "wordcloud = WordCloud(width = 500, height =500 ,stopwords=stopwords, background_color=\"black\",min_font_size = 10).generate(word)\n",
    "\n",
    "plt.figure( figsize=(15,7))\n",
    "plt.imshow(wordcloud, interpolation='bilinear')\n",
    "plt.axis(\"off\")\n",
    "plt.show()"
   ]
  },
  {
   "cell_type": "code",
   "execution_count": 3,
   "metadata": {},
   "outputs": [
    {
     "ename": "NameError",
     "evalue": "name 'cs' is not defined",
     "output_type": "error",
     "traceback": [
      "\u001b[0;31m---------------------------------------------------------------------------\u001b[0m",
      "\u001b[0;31mNameError\u001b[0m                                 Traceback (most recent call last)",
      "\u001b[0;32m/var/folders/1m/w3j2cf2n26942bhk6g1v84y40000gn/T/ipykernel_39327/1703572235.py\u001b[0m in \u001b[0;36m<module>\u001b[0;34m\u001b[0m\n\u001b[0;32m----> 1\u001b[0;31m \u001b[0mbety\u001b[0m \u001b[0;34m=\u001b[0m \u001b[0mcs\u001b[0m\u001b[0;34m.\u001b[0m\u001b[0mloc\u001b[0m\u001b[0;34m[\u001b[0m \u001b[0mcs\u001b[0m\u001b[0;34m[\u001b[0m\u001b[0;34m'from'\u001b[0m\u001b[0;34m]\u001b[0m \u001b[0;34m==\u001b[0m \u001b[0;34m'Betty'\u001b[0m\u001b[0;34m]\u001b[0m\u001b[0;34m\u001b[0m\u001b[0;34m\u001b[0m\u001b[0m\n\u001b[0m\u001b[1;32m      2\u001b[0m \u001b[0mbety\u001b[0m\u001b[0;34m.\u001b[0m\u001b[0mhead\u001b[0m\u001b[0;34m(\u001b[0m\u001b[0;36m10\u001b[0m\u001b[0;34m)\u001b[0m\u001b[0;34m\u001b[0m\u001b[0;34m\u001b[0m\u001b[0m\n",
      "\u001b[0;31mNameError\u001b[0m: name 'cs' is not defined"
     ]
    }
   ],
   "source": [
    "bety = cs.loc[ cs['from'] == 'Betty'] \n",
    "bety.head(10)"
   ]
  },
  {
   "cell_type": "code",
   "execution_count": null,
   "metadata": {},
   "outputs": [],
   "source": []
  },
  {
   "cell_type": "code",
   "execution_count": null,
   "metadata": {},
   "outputs": [],
   "source": []
  }
 ],
 "metadata": {
  "interpreter": {
   "hash": "d78fe511a833fa00d284d7f58a58c462bc6801d30811a887a1948875a12a803c"
  },
  "kernelspec": {
   "display_name": "Python 3 (ipykernel)",
   "language": "python",
   "name": "python3"
  },
  "language_info": {
   "codemirror_mode": {
    "name": "ipython",
    "version": 3
   },
   "file_extension": ".py",
   "mimetype": "text/x-python",
   "name": "python",
   "nbconvert_exporter": "python",
   "pygments_lexer": "ipython3",
   "version": "3.9.7"
  }
 },
 "nbformat": 4,
 "nbformat_minor": 4
}
